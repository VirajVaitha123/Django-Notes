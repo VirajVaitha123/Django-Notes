{
 "metadata": {
  "language_info": {
   "codemirror_mode": {
    "name": "ipython",
    "version": 3
   },
   "file_extension": ".py",
   "mimetype": "text/x-python",
   "name": "python",
   "nbconvert_exporter": "python",
   "pygments_lexer": "ipython3",
   "version": "3.7.3-final"
  },
  "orig_nbformat": 2,
  "kernelspec": {
   "name": "python3",
   "display_name": "Python 3"
  }
 },
 "nbformat": 4,
 "nbformat_minor": 2,
 "cells": [
  {
   "source": [
    "## Homepage\n",
    "\n",
    "This chapter is focused on creating your homepage. You will see repeats of certain concepts from the first chapter, such as linking your new app to the project. This section is a lot easier to follow and will help improve your understanding of django.\n",
    "\n",
    " \n",
    "#### Contents\n",
    "1. Getting Started <br>\n",
    "1.1 Creating your project dir <br>\n",
    "1.2 Dockerize <br>\n",
    "1.3 Changing to a postgresql database <br>\n",
    "1.4 Changing to a Custom User Model <br>\n",
    "1.5 Superuser\n"
   ],
   "cell_type": "markdown",
   "metadata": {}
  },
  {
   "source": [
    "#### 2.1 Create your new app folder\n",
    "As seen before, we want to create a new app using:\n",
    "```\n",
    "docker-compose exec web python manage.py startapp pages\n",
    "```\n",
    "Then add this to your settings.py file as we saw previously. \n",
    "\n",
    "```\n",
    "INSTALLED_APPS = [\n",
    "    'django.contrib.admin',\n",
    "    'django.contrib.auth',\n",
    "    'django.contrib.contenttypes',\n",
    "    'django.contrib.sessions',\n",
    "    'django.contrib.messages',\n",
    "    'django.contrib.staticfiles',\n",
    "    \n",
    "\n",
    "    # Local\n",
    "    'users.apps.UsersConfig',\n",
    "    'pages.apps.PagesConfig',\n",
    "]\n",
    "```\n",
    "\n",
    "#### 2.2 Create a templates directory\n",
    "There are many different ways to do this, such as django searching for templates directory in each app folder. Instead we will have django focus on the settings.py file in your main directory making things easier to manage.\n",
    "\n",
    "Please edit the templates section in the settings.py file as follows\n",
    "```\n",
    "TEMPLATES = [\n",
    "    'DIRS':[os.path.join(BASE_DIR,'templates')],\n",
    "]\n"
   ],
   "cell_type": "markdown",
   "metadata": {}
  },
  {
   "cell_type": "code",
   "execution_count": null,
   "metadata": {},
   "outputs": [],
   "source": []
  },
  {
   "source": [],
   "cell_type": "markdown",
   "metadata": {}
  },
  {
   "source": [],
   "cell_type": "markdown",
   "metadata": {}
  },
  {
   "source": [],
   "cell_type": "markdown",
   "metadata": {}
  },
  {
   "source": [],
   "cell_type": "markdown",
   "metadata": {}
  },
  {
   "cell_type": "code",
   "execution_count": null,
   "metadata": {},
   "outputs": [],
   "source": []
  }
 ]
}